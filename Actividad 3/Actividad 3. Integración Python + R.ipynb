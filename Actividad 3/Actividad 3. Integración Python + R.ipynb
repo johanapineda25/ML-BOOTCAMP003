{
 "cells": [
  {
   "cell_type": "markdown",
   "id": "a8cba0de-cf7a-4c25-8318-f409d7035bae",
   "metadata": {},
   "source": [
    "## Detalle del proyecto y su enfoque."
   ]
  },
  {
   "cell_type": "markdown",
   "id": "e82668dc-8870-4593-9155-1c5d16790d3e",
   "metadata": {},
   "source": [
    "## Proyecto de Ciencia de Datos: Integración Python + R\n",
    "* Johana Patricia Pineda de Zamora\n",
    "* johanapineda@outlook.com"
   ]
  },
  {
   "cell_type": "markdown",
   "id": "b304f116-fec0-43eb-8699-c8927a5752d1",
   "metadata": {},
   "source": [
    "## Tema del proyecto\n",
    "# Título: “Análisis de Datos de Consumo de Energía en Edificios”\n",
    "\n",
    "# Objetivo del análisis:\n",
    "El objetivo principal de este análisis es realizar una exploración, limpieza, transformación y visualización integral del consumo teórico de energía a partir de datos recolectados en tiempo, mediante el uso combinado de Python y R, aprovechando las fortalezas específicas de cada lenguaje en el ciclo de ciencia de datos.\n"
   ]
  },
  {
   "cell_type": "markdown",
   "id": "794e3ae1-32da-4613-b108-3041f145ba01",
   "metadata": {},
   "source": [
    "## Requisito fundamentales del desarrollo del proyecto: Ciencia de Datos Integración Python + R.\n",
    "- Dataset > 1000 filas\t \n",
    "- Limpieza de datos en Python\t\n",
    "- Análisis y visualización en R\t\n",
    "- Comentarios y explicación de código\t\n",
    "- Integración entre Python y R\t\n",
    "- Entregable con estructura de proyecto en GitHub\t"
   ]
  },
  {
   "cell_type": "markdown",
   "id": "67ef7efa-5fda-4ed0-a1ba-ed0fa1839978",
   "metadata": {},
   "source": [
    "################################################################################################################################\n",
    "## Justificación de elección de dataset\n",
    "En aerogeneradores, los sistemas SCADA miden y almacenan datos como la velocidad y la dirección del viento, la potencia generada, etc., en intervalos de 10 minutos. Este archivo se obtuvo del sistema SCADA de un aerogenerador en funcionamiento y generando energía en Turquía.\n",
    "El dataset cuenta con más de 10,000 registros, variables sobre consumo energético, fecha/hora, temperatura, velocidad del viento, etc.\n",
    "###################################################################################################################################"
   ]
  },
  {
   "cell_type": "markdown",
   "id": "83832252-f8fc-43ef-9da4-9c97eabd0bc6",
   "metadata": {},
   "source": [
    "## Dataset\n",
    "Nombre:data/energy_consumption.csv\n",
    "Formato: CSV, compatible con Python y R.\n",
    "# Los datos en el archivo son:\n",
    "* Fecha/Hora (para intervalos de 10 minutos)\n",
    "* LV ActivePower (kW): La potencia generada por la turbina en ese momento\n",
    "* Velocidad del viento (m/s): La velocidad del viento a la altura del eje de la turbina (la velocidad del viento que utiliza la turbina para generar electricidad)\n",
    "* Curva de potencia teórica (KWh): Los valores de potencia teórica que genera la turbina con esa velocidad del viento proporcionada por el fabricante de la turbina.\n",
    "* Dirección del viento (°): La dirección del viento a la altura del buje de la turbina (las turbinas eólicas giran en esta dirección automáticamente)"
   ]
  },
  {
   "cell_type": "markdown",
   "id": "ff061275-4098-47fe-83df-a7c884081a30",
   "metadata": {},
   "source": [
    "################################################################################################################################\n",
    "## Técnica de la Integración de Python con R.\n",
    "Este dataset permite de forma natural dividir el flujo de trabajo entre:\n",
    "# Limpieza inicial con Python (pandas): manejo de nulos, eliminar duplicados, tipos de datos.\n",
    "# Transferencia a R con rpy2 para transformaciones y análisis con dplyr.\n",
    "\n",
    "Al ser un archivo .csv plano y estructurado, se convierte fácilmente en el punto de integración entre ambos lenguajes, cumpliendo así con uno de los objetivos fundamentales del proyecto.\n",
    "#################################################################################################################################"
   ]
  },
  {
   "cell_type": "markdown",
   "id": "2affac5a-723c-4121-964a-72db661e08e2",
   "metadata": {},
   "source": [
    "### Desarrollo del proyecto"
   ]
  },
  {
   "cell_type": "markdown",
   "id": "10a28f9a-dbd2-43df-a0b4-604c0b579c94",
   "metadata": {},
   "source": [
    "## Librerías necesarias a instalar en Jupyter"
   ]
  },
  {
   "cell_type": "markdown",
   "id": "8f81cf00-0395-421b-954f-e926fa251c3a",
   "metadata": {},
   "source": [
    "# Instalación de librerías (Python y R)"
   ]
  },
  {
   "cell_type": "code",
   "execution_count": 2,
   "id": "3e5a24f4-0af9-4317-82b1-e8ec80894d03",
   "metadata": {},
   "outputs": [
    {
     "name": "stdout",
     "output_type": "stream",
     "text": [
      "Collecting pandas\n",
      "  Using cached pandas-2.3.0-cp313-cp313-win_amd64.whl.metadata (19 kB)\n",
      "Collecting matplotlib\n",
      "  Using cached matplotlib-3.10.3-cp313-cp313-win_amd64.whl.metadata (11 kB)\n",
      "Collecting rpy2\n",
      "  Using cached rpy2-3.6.1-py3-none-any.whl.metadata (5.4 kB)\n",
      "Collecting numpy>=1.26.0 (from pandas)\n",
      "  Using cached numpy-2.3.1-cp313-cp313-win_amd64.whl.metadata (60 kB)\n",
      "Requirement already satisfied: python-dateutil>=2.8.2 in c:\\users\\johan\\appdata\\local\\programs\\python\\python313\\lib\\site-packages (from pandas) (2.9.0.post0)\n",
      "Collecting pytz>=2020.1 (from pandas)\n",
      "  Using cached pytz-2025.2-py2.py3-none-any.whl.metadata (22 kB)\n",
      "Collecting tzdata>=2022.7 (from pandas)\n",
      "  Using cached tzdata-2025.2-py2.py3-none-any.whl.metadata (1.4 kB)\n",
      "Collecting contourpy>=1.0.1 (from matplotlib)\n",
      "  Using cached contourpy-1.3.2-cp313-cp313-win_amd64.whl.metadata (5.5 kB)\n",
      "Collecting cycler>=0.10 (from matplotlib)\n",
      "  Using cached cycler-0.12.1-py3-none-any.whl.metadata (3.8 kB)\n",
      "Collecting fonttools>=4.22.0 (from matplotlib)\n",
      "  Using cached fonttools-4.58.5-cp313-cp313-win_amd64.whl.metadata (109 kB)\n",
      "Collecting kiwisolver>=1.3.1 (from matplotlib)\n",
      "  Using cached kiwisolver-1.4.8-cp313-cp313-win_amd64.whl.metadata (6.3 kB)\n",
      "Requirement already satisfied: packaging>=20.0 in c:\\users\\johan\\appdata\\local\\programs\\python\\python313\\lib\\site-packages (from matplotlib) (25.0)\n",
      "Collecting pillow>=8 (from matplotlib)\n",
      "  Using cached pillow-11.3.0-cp313-cp313-win_amd64.whl.metadata (9.2 kB)\n",
      "Collecting pyparsing>=2.3.1 (from matplotlib)\n",
      "  Using cached pyparsing-3.2.3-py3-none-any.whl.metadata (5.0 kB)\n",
      "Collecting rpy2-rinterface>=3.6.1 (from rpy2)\n",
      "  Using cached rpy2_rinterface-3.6.1-cp313-cp313-win_amd64.whl.metadata (2.0 kB)\n",
      "Collecting rpy2-robjects>=3.6.1 (from rpy2)\n",
      "  Using cached rpy2_robjects-3.6.1-py3-none-any.whl.metadata (3.3 kB)\n",
      "Requirement already satisfied: six>=1.5 in c:\\users\\johan\\appdata\\local\\programs\\python\\python313\\lib\\site-packages (from python-dateutil>=2.8.2->pandas) (1.17.0)\n",
      "Requirement already satisfied: cffi>=1.15.1 in c:\\users\\johan\\appdata\\local\\programs\\python\\python313\\lib\\site-packages (from rpy2-rinterface>=3.6.1->rpy2) (1.17.1)\n",
      "Requirement already satisfied: pycparser in c:\\users\\johan\\appdata\\local\\programs\\python\\python313\\lib\\site-packages (from cffi>=1.15.1->rpy2-rinterface>=3.6.1->rpy2) (2.22)\n",
      "Requirement already satisfied: jinja2 in c:\\users\\johan\\appdata\\local\\programs\\python\\python313\\lib\\site-packages (from rpy2-robjects>=3.6.1->rpy2) (3.1.6)\n",
      "Collecting tzlocal (from rpy2-robjects>=3.6.1->rpy2)\n",
      "  Using cached tzlocal-5.3.1-py3-none-any.whl.metadata (7.6 kB)\n",
      "Requirement already satisfied: MarkupSafe>=2.0 in c:\\users\\johan\\appdata\\local\\programs\\python\\python313\\lib\\site-packages (from jinja2->rpy2-robjects>=3.6.1->rpy2) (3.0.2)\n",
      "Using cached pandas-2.3.0-cp313-cp313-win_amd64.whl (11.0 MB)\n",
      "Using cached matplotlib-3.10.3-cp313-cp313-win_amd64.whl (8.1 MB)\n",
      "Using cached rpy2-3.6.1-py3-none-any.whl (9.9 kB)\n",
      "Using cached contourpy-1.3.2-cp313-cp313-win_amd64.whl (223 kB)\n",
      "Using cached cycler-0.12.1-py3-none-any.whl (8.3 kB)\n",
      "Using cached fonttools-4.58.5-cp313-cp313-win_amd64.whl (2.2 MB)\n",
      "Using cached kiwisolver-1.4.8-cp313-cp313-win_amd64.whl (71 kB)\n",
      "Using cached numpy-2.3.1-cp313-cp313-win_amd64.whl (12.7 MB)\n",
      "Using cached pillow-11.3.0-cp313-cp313-win_amd64.whl (7.0 MB)\n",
      "Using cached pyparsing-3.2.3-py3-none-any.whl (111 kB)\n",
      "Using cached pytz-2025.2-py2.py3-none-any.whl (509 kB)\n",
      "Using cached rpy2_rinterface-3.6.1-cp313-cp313-win_amd64.whl (174 kB)\n",
      "Using cached rpy2_robjects-3.6.1-py3-none-any.whl (125 kB)\n",
      "Using cached tzdata-2025.2-py2.py3-none-any.whl (347 kB)\n",
      "Using cached tzlocal-5.3.1-py3-none-any.whl (18 kB)\n",
      "Installing collected packages: pytz, tzdata, pyparsing, pillow, numpy, kiwisolver, fonttools, cycler, tzlocal, rpy2-rinterface, pandas, contourpy, rpy2-robjects, matplotlib, rpy2\n",
      "\n",
      "   ----------------------------------------  0/15 [pytz]\n",
      "   ----------------------------------------  0/15 [pytz]\n",
      "   ----------------------------------------  0/15 [pytz]\n",
      "   ----------------------------------------  0/15 [pytz]\n",
      "   ----------------------------------------  0/15 [pytz]\n",
      "   ----------------------------------------  0/15 [pytz]\n",
      "   ----------------------------------------  0/15 [pytz]\n",
      "   -- -------------------------------------  1/15 [tzdata]\n",
      "   -- -------------------------------------  1/15 [tzdata]\n",
      "   -- -------------------------------------  1/15 [tzdata]\n",
      "   -- -------------------------------------  1/15 [tzdata]\n",
      "   -- -------------------------------------  1/15 [tzdata]\n",
      "   -- -------------------------------------  1/15 [tzdata]\n",
      "   -- -------------------------------------  1/15 [tzdata]\n",
      "   ----- ----------------------------------  2/15 [pyparsing]\n",
      "   ----- ----------------------------------  2/15 [pyparsing]\n",
      "   -------- -------------------------------  3/15 [pillow]\n",
      "   -------- -------------------------------  3/15 [pillow]\n",
      "   -------- -------------------------------  3/15 [pillow]\n",
      "   -------- -------------------------------  3/15 [pillow]\n",
      "   -------- -------------------------------  3/15 [pillow]\n",
      "   -------- -------------------------------  3/15 [pillow]\n",
      "   -------- -------------------------------  3/15 [pillow]\n",
      "   -------- -------------------------------  3/15 [pillow]\n",
      "   -------- -------------------------------  3/15 [pillow]\n",
      "   -------- -------------------------------  3/15 [pillow]\n",
      "   ---------- -----------------------------  4/15 [numpy]\n",
      "   ---------- -----------------------------  4/15 [numpy]\n",
      "   ---------- -----------------------------  4/15 [numpy]\n",
      "   ---------- -----------------------------  4/15 [numpy]\n",
      "   ---------- -----------------------------  4/15 [numpy]\n",
      "   ---------- -----------------------------  4/15 [numpy]\n",
      "   ---------- -----------------------------  4/15 [numpy]\n",
      "   ---------- -----------------------------  4/15 [numpy]\n",
      "   ---------- -----------------------------  4/15 [numpy]\n",
      "   ---------- -----------------------------  4/15 [numpy]\n",
      "   ---------- -----------------------------  4/15 [numpy]\n",
      "   ---------- -----------------------------  4/15 [numpy]\n",
      "   ---------- -----------------------------  4/15 [numpy]\n",
      "   ---------- -----------------------------  4/15 [numpy]\n",
      "   ---------- -----------------------------  4/15 [numpy]\n",
      "   ---------- -----------------------------  4/15 [numpy]\n",
      "   ---------- -----------------------------  4/15 [numpy]\n",
      "   ---------- -----------------------------  4/15 [numpy]\n",
      "   ---------- -----------------------------  4/15 [numpy]\n",
      "   ---------- -----------------------------  4/15 [numpy]\n",
      "   ---------- -----------------------------  4/15 [numpy]\n",
      "   ---------- -----------------------------  4/15 [numpy]\n",
      "   ---------- -----------------------------  4/15 [numpy]\n",
      "   ---------- -----------------------------  4/15 [numpy]\n",
      "   ---------- -----------------------------  4/15 [numpy]\n",
      "   ---------- -----------------------------  4/15 [numpy]\n",
      "   ---------- -----------------------------  4/15 [numpy]\n",
      "   ---------- -----------------------------  4/15 [numpy]\n",
      "   ---------- -----------------------------  4/15 [numpy]\n",
      "   ---------- -----------------------------  4/15 [numpy]\n",
      "   ---------- -----------------------------  4/15 [numpy]\n",
      "   ---------- -----------------------------  4/15 [numpy]\n",
      "   ---------- -----------------------------  4/15 [numpy]\n",
      "   ---------- -----------------------------  4/15 [numpy]\n",
      "   ---------- -----------------------------  4/15 [numpy]\n",
      "   ---------- -----------------------------  4/15 [numpy]\n",
      "   ---------- -----------------------------  4/15 [numpy]\n",
      "   ---------- -----------------------------  4/15 [numpy]\n",
      "   ---------- -----------------------------  4/15 [numpy]\n",
      "   ---------- -----------------------------  4/15 [numpy]\n",
      "   ---------- -----------------------------  4/15 [numpy]\n",
      "   ---------- -----------------------------  4/15 [numpy]\n",
      "   ---------- -----------------------------  4/15 [numpy]\n",
      "   ---------- -----------------------------  4/15 [numpy]\n",
      "   ---------- -----------------------------  4/15 [numpy]\n",
      "   ---------- -----------------------------  4/15 [numpy]\n",
      "   ---------- -----------------------------  4/15 [numpy]\n",
      "   ---------- -----------------------------  4/15 [numpy]\n",
      "   ---------- -----------------------------  4/15 [numpy]\n",
      "   ---------- -----------------------------  4/15 [numpy]\n",
      "   ---------- -----------------------------  4/15 [numpy]\n",
      "   ---------- -----------------------------  4/15 [numpy]\n",
      "   ---------- -----------------------------  4/15 [numpy]\n",
      "   ---------- -----------------------------  4/15 [numpy]\n",
      "   ---------- -----------------------------  4/15 [numpy]\n",
      "   ---------------- -----------------------  6/15 [fonttools]\n",
      "   ---------------- -----------------------  6/15 [fonttools]\n",
      "   ---------------- -----------------------  6/15 [fonttools]\n",
      "   ---------------- -----------------------  6/15 [fonttools]\n",
      "   ---------------- -----------------------  6/15 [fonttools]\n",
      "   ---------------- -----------------------  6/15 [fonttools]\n",
      "   ---------------- -----------------------  6/15 [fonttools]\n",
      "   ---------------- -----------------------  6/15 [fonttools]\n",
      "   ---------------- -----------------------  6/15 [fonttools]\n",
      "   ---------------- -----------------------  6/15 [fonttools]\n",
      "   ---------------- -----------------------  6/15 [fonttools]\n",
      "   ---------------- -----------------------  6/15 [fonttools]\n",
      "   ---------------- -----------------------  6/15 [fonttools]\n",
      "   ---------------- -----------------------  6/15 [fonttools]\n",
      "   ---------------- -----------------------  6/15 [fonttools]\n",
      "   ---------------- -----------------------  6/15 [fonttools]\n",
      "   ---------------- -----------------------  6/15 [fonttools]\n",
      "   ---------------- -----------------------  6/15 [fonttools]\n",
      "   ---------------- -----------------------  6/15 [fonttools]\n",
      "   ---------------- -----------------------  6/15 [fonttools]\n",
      "   ---------------- -----------------------  6/15 [fonttools]\n",
      "   ---------------- -----------------------  6/15 [fonttools]\n",
      "   ---------------- -----------------------  6/15 [fonttools]\n",
      "   ---------------- -----------------------  6/15 [fonttools]\n",
      "   ---------------- -----------------------  6/15 [fonttools]\n",
      "   ---------------- -----------------------  6/15 [fonttools]\n",
      "   ---------------- -----------------------  6/15 [fonttools]\n",
      "   ---------------- -----------------------  6/15 [fonttools]\n",
      "   --------------------- ------------------  8/15 [tzlocal]\n",
      "   ------------------------ ---------------  9/15 [rpy2-rinterface]\n",
      "   ------------------------ ---------------  9/15 [rpy2-rinterface]\n",
      "   ------------------------ ---------------  9/15 [rpy2-rinterface]\n",
      "   ------------------------ ---------------  9/15 [rpy2-rinterface]\n",
      "   -------------------------- ------------- 10/15 [pandas]\n",
      "   -------------------------- ------------- 10/15 [pandas]\n",
      "   -------------------------- ------------- 10/15 [pandas]\n",
      "   -------------------------- ------------- 10/15 [pandas]\n",
      "   -------------------------- ------------- 10/15 [pandas]\n",
      "   -------------------------- ------------- 10/15 [pandas]\n",
      "   -------------------------- ------------- 10/15 [pandas]\n",
      "   -------------------------- ------------- 10/15 [pandas]\n",
      "   -------------------------- ------------- 10/15 [pandas]\n",
      "   -------------------------- ------------- 10/15 [pandas]\n",
      "   -------------------------- ------------- 10/15 [pandas]\n",
      "   -------------------------- ------------- 10/15 [pandas]\n",
      "   -------------------------- ------------- 10/15 [pandas]\n",
      "   -------------------------- ------------- 10/15 [pandas]\n",
      "   -------------------------- ------------- 10/15 [pandas]\n",
      "   -------------------------- ------------- 10/15 [pandas]\n",
      "   -------------------------- ------------- 10/15 [pandas]\n",
      "   -------------------------- ------------- 10/15 [pandas]\n",
      "   -------------------------- ------------- 10/15 [pandas]\n",
      "   -------------------------- ------------- 10/15 [pandas]\n",
      "   -------------------------- ------------- 10/15 [pandas]\n",
      "   -------------------------- ------------- 10/15 [pandas]\n",
      "   -------------------------- ------------- 10/15 [pandas]\n",
      "   -------------------------- ------------- 10/15 [pandas]\n",
      "   -------------------------- ------------- 10/15 [pandas]\n",
      "   -------------------------- ------------- 10/15 [pandas]\n",
      "   -------------------------- ------------- 10/15 [pandas]\n",
      "   -------------------------- ------------- 10/15 [pandas]\n",
      "   -------------------------- ------------- 10/15 [pandas]\n",
      "   -------------------------- ------------- 10/15 [pandas]\n",
      "   -------------------------- ------------- 10/15 [pandas]\n",
      "   -------------------------- ------------- 10/15 [pandas]\n",
      "   -------------------------- ------------- 10/15 [pandas]\n",
      "   -------------------------- ------------- 10/15 [pandas]\n",
      "   -------------------------- ------------- 10/15 [pandas]\n",
      "   -------------------------- ------------- 10/15 [pandas]\n",
      "   -------------------------- ------------- 10/15 [pandas]\n",
      "   -------------------------- ------------- 10/15 [pandas]\n",
      "   -------------------------- ------------- 10/15 [pandas]\n",
      "   -------------------------- ------------- 10/15 [pandas]\n",
      "   -------------------------- ------------- 10/15 [pandas]\n",
      "   -------------------------- ------------- 10/15 [pandas]\n",
      "   -------------------------- ------------- 10/15 [pandas]\n",
      "   -------------------------- ------------- 10/15 [pandas]\n",
      "   -------------------------- ------------- 10/15 [pandas]\n",
      "   -------------------------- ------------- 10/15 [pandas]\n",
      "   -------------------------- ------------- 10/15 [pandas]\n",
      "   -------------------------- ------------- 10/15 [pandas]\n",
      "   -------------------------- ------------- 10/15 [pandas]\n",
      "   -------------------------- ------------- 10/15 [pandas]\n",
      "   -------------------------- ------------- 10/15 [pandas]\n",
      "   -------------------------- ------------- 10/15 [pandas]\n",
      "   -------------------------- ------------- 10/15 [pandas]\n",
      "   -------------------------- ------------- 10/15 [pandas]\n",
      "   -------------------------- ------------- 10/15 [pandas]\n",
      "   -------------------------- ------------- 10/15 [pandas]\n",
      "   -------------------------- ------------- 10/15 [pandas]\n",
      "   -------------------------- ------------- 10/15 [pandas]\n",
      "   -------------------------- ------------- 10/15 [pandas]\n",
      "   -------------------------- ------------- 10/15 [pandas]\n",
      "   -------------------------- ------------- 10/15 [pandas]\n",
      "   -------------------------- ------------- 10/15 [pandas]\n",
      "   -------------------------- ------------- 10/15 [pandas]\n",
      "   -------------------------- ------------- 10/15 [pandas]\n",
      "   -------------------------- ------------- 10/15 [pandas]\n",
      "   -------------------------- ------------- 10/15 [pandas]\n",
      "   -------------------------- ------------- 10/15 [pandas]\n",
      "   -------------------------- ------------- 10/15 [pandas]\n",
      "   -------------------------- ------------- 10/15 [pandas]\n",
      "   -------------------------- ------------- 10/15 [pandas]\n",
      "   -------------------------- ------------- 10/15 [pandas]\n",
      "   -------------------------- ------------- 10/15 [pandas]\n",
      "   -------------------------- ------------- 10/15 [pandas]\n",
      "   -------------------------- ------------- 10/15 [pandas]\n",
      "   -------------------------- ------------- 10/15 [pandas]\n",
      "   -------------------------- ------------- 10/15 [pandas]\n",
      "   -------------------------- ------------- 10/15 [pandas]\n",
      "   -------------------------- ------------- 10/15 [pandas]\n",
      "   -------------------------- ------------- 10/15 [pandas]\n",
      "   -------------------------- ------------- 10/15 [pandas]\n",
      "   -------------------------- ------------- 10/15 [pandas]\n",
      "   -------------------------- ------------- 10/15 [pandas]\n",
      "   -------------------------- ------------- 10/15 [pandas]\n",
      "   -------------------------- ------------- 10/15 [pandas]\n",
      "   -------------------------- ------------- 10/15 [pandas]\n",
      "   -------------------------- ------------- 10/15 [pandas]\n",
      "   -------------------------- ------------- 10/15 [pandas]\n",
      "   -------------------------- ------------- 10/15 [pandas]\n",
      "   -------------------------- ------------- 10/15 [pandas]\n",
      "   -------------------------- ------------- 10/15 [pandas]\n",
      "   -------------------------- ------------- 10/15 [pandas]\n",
      "   -------------------------- ------------- 10/15 [pandas]\n",
      "   -------------------------- ------------- 10/15 [pandas]\n",
      "   -------------------------- ------------- 10/15 [pandas]\n",
      "   -------------------------- ------------- 10/15 [pandas]\n",
      "   -------------------------- ------------- 10/15 [pandas]\n",
      "   -------------------------- ------------- 10/15 [pandas]\n",
      "   -------------------------- ------------- 10/15 [pandas]\n",
      "   -------------------------- ------------- 10/15 [pandas]\n",
      "   -------------------------- ------------- 10/15 [pandas]\n",
      "   -------------------------- ------------- 10/15 [pandas]\n",
      "   -------------------------- ------------- 10/15 [pandas]\n",
      "   -------------------------- ------------- 10/15 [pandas]\n",
      "   -------------------------- ------------- 10/15 [pandas]\n",
      "   -------------------------- ------------- 10/15 [pandas]\n",
      "   -------------------------- ------------- 10/15 [pandas]\n",
      "   -------------------------- ------------- 10/15 [pandas]\n",
      "   -------------------------- ------------- 10/15 [pandas]\n",
      "   -------------------------- ------------- 10/15 [pandas]\n",
      "   -------------------------- ------------- 10/15 [pandas]\n",
      "   -------------------------- ------------- 10/15 [pandas]\n",
      "   -------------------------- ------------- 10/15 [pandas]\n",
      "   -------------------------- ------------- 10/15 [pandas]\n",
      "   -------------------------- ------------- 10/15 [pandas]\n",
      "   -------------------------- ------------- 10/15 [pandas]\n",
      "   -------------------------- ------------- 10/15 [pandas]\n",
      "   -------------------------- ------------- 10/15 [pandas]\n",
      "   -------------------------- ------------- 10/15 [pandas]\n",
      "   -------------------------- ------------- 10/15 [pandas]\n",
      "   -------------------------- ------------- 10/15 [pandas]\n",
      "   -------------------------- ------------- 10/15 [pandas]\n",
      "   -------------------------- ------------- 10/15 [pandas]\n",
      "   -------------------------- ------------- 10/15 [pandas]\n",
      "   -------------------------- ------------- 10/15 [pandas]\n",
      "   -------------------------- ------------- 10/15 [pandas]\n",
      "   -------------------------- ------------- 10/15 [pandas]\n",
      "   -------------------------- ------------- 10/15 [pandas]\n",
      "   -------------------------- ------------- 10/15 [pandas]\n",
      "   -------------------------- ------------- 10/15 [pandas]\n",
      "   -------------------------- ------------- 10/15 [pandas]\n",
      "   -------------------------- ------------- 10/15 [pandas]\n",
      "   -------------------------- ------------- 10/15 [pandas]\n",
      "   -------------------------- ------------- 10/15 [pandas]\n",
      "   -------------------------- ------------- 10/15 [pandas]\n",
      "   -------------------------- ------------- 10/15 [pandas]\n",
      "   -------------------------- ------------- 10/15 [pandas]\n",
      "   ----------------------------- ---------- 11/15 [contourpy]\n",
      "   -------------------------------- ------- 12/15 [rpy2-robjects]\n",
      "   -------------------------------- ------- 12/15 [rpy2-robjects]\n",
      "   -------------------------------- ------- 12/15 [rpy2-robjects]\n",
      "   -------------------------------- ------- 12/15 [rpy2-robjects]\n",
      "   -------------------------------- ------- 12/15 [rpy2-robjects]\n",
      "   ---------------------------------- ----- 13/15 [matplotlib]\n",
      "   ---------------------------------- ----- 13/15 [matplotlib]\n",
      "   ---------------------------------- ----- 13/15 [matplotlib]\n",
      "   ---------------------------------- ----- 13/15 [matplotlib]\n",
      "   ---------------------------------- ----- 13/15 [matplotlib]\n",
      "   ---------------------------------- ----- 13/15 [matplotlib]\n",
      "   ---------------------------------- ----- 13/15 [matplotlib]\n",
      "   ---------------------------------- ----- 13/15 [matplotlib]\n",
      "   ---------------------------------- ----- 13/15 [matplotlib]\n",
      "   ---------------------------------- ----- 13/15 [matplotlib]\n",
      "   ---------------------------------- ----- 13/15 [matplotlib]\n",
      "   ---------------------------------- ----- 13/15 [matplotlib]\n",
      "   ---------------------------------- ----- 13/15 [matplotlib]\n",
      "   ---------------------------------- ----- 13/15 [matplotlib]\n",
      "   ---------------------------------- ----- 13/15 [matplotlib]\n",
      "   ---------------------------------- ----- 13/15 [matplotlib]\n",
      "   ---------------------------------- ----- 13/15 [matplotlib]\n",
      "   ---------------------------------- ----- 13/15 [matplotlib]\n",
      "   ---------------------------------- ----- 13/15 [matplotlib]\n",
      "   ---------------------------------- ----- 13/15 [matplotlib]\n",
      "   ---------------------------------- ----- 13/15 [matplotlib]\n",
      "   ---------------------------------- ----- 13/15 [matplotlib]\n",
      "   ---------------------------------- ----- 13/15 [matplotlib]\n",
      "   ---------------------------------- ----- 13/15 [matplotlib]\n",
      "   ---------------------------------- ----- 13/15 [matplotlib]\n",
      "   ---------------------------------- ----- 13/15 [matplotlib]\n",
      "   ---------------------------------- ----- 13/15 [matplotlib]\n",
      "   ---------------------------------- ----- 13/15 [matplotlib]\n",
      "   ---------------------------------- ----- 13/15 [matplotlib]\n",
      "   ---------------------------------- ----- 13/15 [matplotlib]\n",
      "   ---------------------------------- ----- 13/15 [matplotlib]\n",
      "   ---------------------------------- ----- 13/15 [matplotlib]\n",
      "   ---------------------------------- ----- 13/15 [matplotlib]\n",
      "   ---------------------------------- ----- 13/15 [matplotlib]\n",
      "   ---------------------------------- ----- 13/15 [matplotlib]\n",
      "   ---------------------------------- ----- 13/15 [matplotlib]\n",
      "   ---------------------------------- ----- 13/15 [matplotlib]\n",
      "   ---------------------------------- ----- 13/15 [matplotlib]\n",
      "   ---------------------------------- ----- 13/15 [matplotlib]\n",
      "   ---------------------------------- ----- 13/15 [matplotlib]\n",
      "   ---------------------------------- ----- 13/15 [matplotlib]\n",
      "   ---------------------------------- ----- 13/15 [matplotlib]\n",
      "   ---------------------------------------- 15/15 [rpy2]\n",
      "\n",
      "Successfully installed contourpy-1.3.2 cycler-0.12.1 fonttools-4.58.5 kiwisolver-1.4.8 matplotlib-3.10.3 numpy-2.3.1 pandas-2.3.0 pillow-11.3.0 pyparsing-3.2.3 pytz-2025.2 rpy2-3.6.1 rpy2-rinterface-3.6.1 rpy2-robjects-3.6.1 tzdata-2025.2 tzlocal-5.3.1\n",
      "Note: you may need to restart the kernel to use updated packages.\n"
     ]
    }
   ],
   "source": [
    "pip install pandas matplotlib rpy2"
   ]
  },
  {
   "cell_type": "markdown",
   "id": "1286fecc-4a4e-4f79-a18d-e2570ce53092",
   "metadata": {},
   "source": [
    "# Librerias R (instalar en consola R)"
   ]
  },
  {
   "cell_type": "code",
   "execution_count": null,
   "id": "b941eaf7-db8d-48e3-b0be-6db74bbc17db",
   "metadata": {},
   "outputs": [],
   "source": [
    "install.packages(\"ggplot2\")   # Crear gráficos profesionales (barras, líneas, cajas, dispersión, mapas, etc.).\n",
    "install.packages(\"dplyr\")    # Filtrar, seleccionar columnas, agrupar, resumir, ordenar datos fácilmente.\n",
    "install.packages(\"readr\")   # Cargar datasets rápidamente para análisis. Más rápido y limpio que funciones base de R.\n",
    "install.packages(\"lubridate\") # Extraer año, mes, día, comparar fechas, convertir strings a fechas, operaciones con fechas."
   ]
  },
  {
   "cell_type": "markdown",
   "id": "b6e65cad-cf21-4849-b1c1-fd1c88787274",
   "metadata": {},
   "source": [
    "## Cargar y limpiar datos en Python"
   ]
  },
  {
   "cell_type": "code",
   "execution_count": 4,
   "id": "c192ac5f-1f1a-48b8-9f6e-588145cdfcc4",
   "metadata": {},
   "outputs": [
    {
     "name": "stdout",
     "output_type": "stream",
     "text": [
      "          Date/Time  LV ActivePower (kW)  Wind Speed (m/s)  \\\n",
      "0  01 01 2018 00:00           380.047791          5.311336   \n",
      "1  01 01 2018 00:10           453.769196          5.672167   \n",
      "2  01 01 2018 00:20           306.376587          5.216037   \n",
      "3  01 01 2018 00:30           419.645905          5.659674   \n",
      "4  01 01 2018 00:40           380.650696          5.577941   \n",
      "\n",
      "   Theoretical_Power_Curve (KWh)  Wind Direction (°)  \n",
      "0                     416.328908          259.994904  \n",
      "1                     519.917511          268.641113  \n",
      "2                     390.900016          272.564789  \n",
      "3                     516.127569          271.258087  \n",
      "4                     491.702972          265.674286  \n",
      "<class 'pandas.core.frame.DataFrame'>\n",
      "RangeIndex: 50530 entries, 0 to 50529\n",
      "Data columns (total 5 columns):\n",
      " #   Column                         Non-Null Count  Dtype  \n",
      "---  ------                         --------------  -----  \n",
      " 0   Date/Time                      50530 non-null  object \n",
      " 1   LV ActivePower (kW)            50530 non-null  float64\n",
      " 2   Wind Speed (m/s)               50530 non-null  float64\n",
      " 3   Theoretical_Power_Curve (KWh)  50530 non-null  float64\n",
      " 4   Wind Direction (°)             50530 non-null  float64\n",
      "dtypes: float64(4), object(1)\n",
      "memory usage: 1.9+ MB\n",
      "None\n",
      "Date/Time                        0\n",
      "LV ActivePower (kW)              0\n",
      "Wind Speed (m/s)                 0\n",
      "Theoretical_Power_Curve (KWh)    0\n",
      "Wind Direction (°)               0\n",
      "dtype: int64\n"
     ]
    },
    {
     "data": {
      "image/png": "[encoded data removed]",
      "text/plain": [
       "<Figure size 640x480 with 1 Axes>"
      ]
     },
     "metadata": {},
     "output_type": "display_data"
    }
   ],
   "source": [
    "# Importando librerias\n",
    "import pandas as pd\n",
    "import matplotlib.pyplot as plt\n",
    "\n",
    "# Se procede a realizar la Cargar dataset CSV en este bloque de codigo\n",
    "data = pd.read_csv(\"energy_consumption.csv\")\n",
    "\n",
    "# Se muestran las primeras filas y un pequeño resumen\n",
    "print(data.head())\n",
    "print(data.info())\n",
    "\n",
    "# Se proceder con una Limpieza inicial de datos base:\n",
    "# - Eliminar duplicados\n",
    "data = data.drop_duplicates()\n",
    "\n",
    "# - Revisar valores nulos\n",
    "print(data.isnull().sum())\n",
    "\n",
    "# - Eliminar filas con nulos (si son pocas)\n",
    "data = data.dropna()\n",
    "\n",
    "# Convertir columna fecha a datetime\n",
    "data['Date/Time'] = pd.to_datetime(data['Date/Time'], errors='coerce')\n",
    "\n",
    "# En este punto se procede a Guardar archivo limpio para R\n",
    "data.to_csv(\"energy_clean.csv\", index=False)\n",
    "\n",
    "# Visualización rápida con matplotlib\n",
    "plt.hist(data['Theoretical_Power_Curve (KWh)'], bins=50)\n",
    "plt.title(\"Distribución Consumo de Energía\")\n",
    "plt.xlabel(\"Consumo\")\n",
    "plt.ylabel(\"Frecuencia\")\n",
    "plt.show()"
   ]
  },
  {
   "cell_type": "code",
   "execution_count": 3,
   "id": "7d4339b3-9ae5-4c15-bd28-10e0c9d663c9",
   "metadata": {},
   "outputs": [
    {
     "name": "stdout",
     "output_type": "stream",
     "text": [
      "Index(['Date/Time', 'LV ActivePower (kW)', 'Wind Speed (m/s)',\n",
      "       'Theoretical_Power_Curve (KWh)', 'Wind Direction (°)'],\n",
      "      dtype='object')\n"
     ]
    }
   ],
   "source": [
    "print(data.columns)"
   ]
  },
  {
   "cell_type": "markdown",
   "id": "ced2897c-a1a1-4ffb-a953-f36251206c1f",
   "metadata": {},
   "source": [
    "## Transferir datos a R y análisis con dplyr y ggplot2"
   ]
  },
  {
   "cell_type": "code",
   "execution_count": 1,
   "id": "f09cd70e-00b4-464b-938b-583cfecbf8e7",
   "metadata": {},
   "outputs": [
    {
     "name": "stderr",
     "output_type": "stream",
     "text": [
      "\n",
      "Adjuntando el paquete: 'dplyr'\n",
      "\n",
      "\n",
      "The following objects are masked from 'package:stats':\n",
      "\n",
      "    filter, lag\n",
      "\n",
      "\n",
      "The following objects are masked from 'package:base':\n",
      "\n",
      "    intersect, setdiff, setequal, union\n",
      "\n",
      "\n"
     ]
    }
   ],
   "source": [
    "# R. Carga de librerías en R\n",
    "library(dplyr)\n",
    "library(ggplot2)\n",
    "library(readr)  # Para leer archivos CSV de forma eficiente"
   ]
  },
  {
   "cell_type": "code",
   "execution_count": 2,
   "id": "f10b2f51-5f72-490f-acdd-2d7433bff8c0",
   "metadata": {},
   "outputs": [
    {
     "name": "stderr",
     "output_type": "stream",
     "text": [
      "\u001b[1mRows: \u001b[22m\u001b[34m50530\u001b[39m \u001b[1mColumns: \u001b[22m\u001b[34m5\u001b[39m\n",
      "\u001b[36m──\u001b[39m \u001b[1mColumn specification\u001b[22m \u001b[36m────────────────────────────────────────────────────────────────────────────────────────────────\u001b[39m\n",
      "\u001b[1mDelimiter:\u001b[22m \",\"\n",
      "\u001b[32mdbl\u001b[39m  (4): LV ActivePower (kW), Wind Speed (m/s), Theoretical_Power_Curve (KW...\n",
      "\u001b[34mdttm\u001b[39m (1): Date/Time\n",
      "\n",
      "\u001b[36mℹ\u001b[39m Use `spec()` to retrieve the full column specification for this data.\n",
      "\u001b[36mℹ\u001b[39m Specify the column types or set `show_col_types = FALSE` to quiet this message.\n"
     ]
    },
    {
     "name": "stdout",
     "output_type": "stream",
     "text": [
      "Rows: 50,530\n",
      "Columns: 5\n",
      "$ `Date/Time`                     \u001b[3m\u001b[90m<dttm>\u001b[39m\u001b[23m 2018-01-01 00:00:00\u001b[90m, \u001b[39m2018-01-01 00:10…\n",
      "$ `LV ActivePower (kW)`           \u001b[3m\u001b[90m<dbl>\u001b[39m\u001b[23m 380.0478\u001b[90m, \u001b[39m453.7692\u001b[90m, \u001b[39m306.3766\u001b[90m, \u001b[39m419.6459…\n",
      "$ `Wind Speed (m/s)`              \u001b[3m\u001b[90m<dbl>\u001b[39m\u001b[23m 5.311336\u001b[90m, \u001b[39m5.672167\u001b[90m, \u001b[39m5.216037\u001b[90m, \u001b[39m5.659674…\n",
      "$ `Theoretical_Power_Curve (KWh)` \u001b[3m\u001b[90m<dbl>\u001b[39m\u001b[23m 416.3289\u001b[90m, \u001b[39m519.9175\u001b[90m, \u001b[39m390.9000\u001b[90m, \u001b[39m516.1276…\n",
      "$ `Wind Direction (°)`            \u001b[3m\u001b[90m<dbl>\u001b[39m\u001b[23m 259.9949\u001b[90m, \u001b[39m268.6411\u001b[90m, \u001b[39m272.5648\u001b[90m, \u001b[39m271.2581…\n"
     ]
    },
    {
     "data": {
      "text/html": [
       "<table class=\"dataframe\">\n",
       "<caption>A tibble: 6 × 5</caption>\n",
       "<thead>\n",
       "\t<tr><th scope=col>Date/Time</th><th scope=col>LV ActivePower (kW)</th><th scope=col>Wind Speed (m/s)</th><th scope=col>Theoretical_Power_Curve (KWh)</th><th scope=col>Wind Direction (°)</th></tr>\n",
       "\t<tr><th scope=col>&lt;dttm&gt;</th><th scope=col>&lt;dbl&gt;</th><th scope=col>&lt;dbl&gt;</th><th scope=col>&lt;dbl&gt;</th><th scope=col>&lt;dbl&gt;</th></tr>\n",
       "</thead>\n",
       "<tbody>\n",
       "\t<tr><td>2018-01-01 00:00:00</td><td>380.0478</td><td>5.311336</td><td>416.3289</td><td>259.9949</td></tr>\n",
       "\t<tr><td>2018-01-01 00:10:00</td><td>453.7692</td><td>5.672167</td><td>519.9175</td><td>268.6411</td></tr>\n",
       "\t<tr><td>2018-01-01 00:20:00</td><td>306.3766</td><td>5.216037</td><td>390.9000</td><td>272.5648</td></tr>\n",
       "\t<tr><td>2018-01-01 00:30:00</td><td>419.6459</td><td>5.659674</td><td>516.1276</td><td>271.2581</td></tr>\n",
       "\t<tr><td>2018-01-01 00:40:00</td><td>380.6507</td><td>5.577941</td><td>491.7030</td><td>265.6743</td></tr>\n",
       "\t<tr><td>2018-01-01 00:50:00</td><td>402.3920</td><td>5.604052</td><td>499.4364</td><td>264.5786</td></tr>\n",
       "</tbody>\n",
       "</table>\n"
      ],
      "text/latex": [
       "A tibble: 6 × 5\n",
       "\\begin{tabular}{lllll}\n",
       " Date/Time & LV ActivePower (kW) & Wind Speed (m/s) & Theoretical\\_Power\\_Curve (KWh) & Wind Direction (°)\\\\\n",
       " <dttm> & <dbl> & <dbl> & <dbl> & <dbl>\\\\\n",
       "\\hline\n",
       "\t 2018-01-01 00:00:00 & 380.0478 & 5.311336 & 416.3289 & 259.9949\\\\\n",
       "\t 2018-01-01 00:10:00 & 453.7692 & 5.672167 & 519.9175 & 268.6411\\\\\n",
       "\t 2018-01-01 00:20:00 & 306.3766 & 5.216037 & 390.9000 & 272.5648\\\\\n",
       "\t 2018-01-01 00:30:00 & 419.6459 & 5.659674 & 516.1276 & 271.2581\\\\\n",
       "\t 2018-01-01 00:40:00 & 380.6507 & 5.577941 & 491.7030 & 265.6743\\\\\n",
       "\t 2018-01-01 00:50:00 & 402.3920 & 5.604052 & 499.4364 & 264.5786\\\\\n",
       "\\end{tabular}\n"
      ],
      "text/markdown": [
       "\n",
       "A tibble: 6 × 5\n",
       "\n",
       "| Date/Time &lt;dttm&gt; | LV ActivePower (kW) &lt;dbl&gt; | Wind Speed (m/s) &lt;dbl&gt; | Theoretical_Power_Curve (KWh) &lt;dbl&gt; | Wind Direction (°) &lt;dbl&gt; |\n",
       "|---|---|---|---|---|\n",
       "| 2018-01-01 00:00:00 | 380.0478 | 5.311336 | 416.3289 | 259.9949 |\n",
       "| 2018-01-01 00:10:00 | 453.7692 | 5.672167 | 519.9175 | 268.6411 |\n",
       "| 2018-01-01 00:20:00 | 306.3766 | 5.216037 | 390.9000 | 272.5648 |\n",
       "| 2018-01-01 00:30:00 | 419.6459 | 5.659674 | 516.1276 | 271.2581 |\n",
       "| 2018-01-01 00:40:00 | 380.6507 | 5.577941 | 491.7030 | 265.6743 |\n",
       "| 2018-01-01 00:50:00 | 402.3920 | 5.604052 | 499.4364 | 264.5786 |\n",
       "\n"
      ],
      "text/plain": [
       "  Date/Time           LV ActivePower (kW) Wind Speed (m/s)\n",
       "1 2018-01-01 00:00:00 380.0478            5.311336        \n",
       "2 2018-01-01 00:10:00 453.7692            5.672167        \n",
       "3 2018-01-01 00:20:00 306.3766            5.216037        \n",
       "4 2018-01-01 00:30:00 419.6459            5.659674        \n",
       "5 2018-01-01 00:40:00 380.6507            5.577941        \n",
       "6 2018-01-01 00:50:00 402.3920            5.604052        \n",
       "  Theoretical_Power_Curve (KWh) Wind Direction (°)\n",
       "1 416.3289                      259.9949          \n",
       "2 519.9175                      268.6411          \n",
       "3 390.9000                      272.5648          \n",
       "4 516.1276                      271.2581          \n",
       "5 491.7030                      265.6743          \n",
       "6 499.4364                      264.5786          "
      ]
     },
     "metadata": {},
     "output_type": "display_data"
    }
   ],
   "source": [
    "# R. Carga del archivo limpio generado desde Python\n",
    "# Leer archivo limpio\n",
    "energy_data <- read_csv(\"energy_clean.csv\")\n",
    "\n",
    "# Ver estructura y primeras filas\n",
    "glimpse(energy_data)\n",
    "head(energy_data)"
   ]
  },
  {
   "cell_type": "code",
   "execution_count": null,
   "id": "ce09de7a-c0de-4b1e-98cd-673d2dcab7c9",
   "metadata": {},
   "outputs": [],
   "source": [
    "# R. Validación rápida en R (opcional)\n",
    "Aunque ya se limpió en Python, siempre se procede a validar desde R para asegurar integridad"
   ]
  },
  {
   "cell_type": "code",
   "execution_count": 4,
   "id": "743f12a8-91e4-448a-bf76-d877ed0ce5cb",
   "metadata": {},
   "outputs": [
    {
     "data": {
      "text/html": [
       "<style>\n",
       ".dl-inline {width: auto; margin:0; padding: 0}\n",
       ".dl-inline>dt, .dl-inline>dd {float: none; width: auto; display: inline-block}\n",
       ".dl-inline>dt::after {content: \":\\0020\"; padding-right: .5ex}\n",
       ".dl-inline>dt:not(:first-of-type) {padding-left: .5ex}\n",
       "</style><dl class=dl-inline><dt>Date/Time</dt><dd>30544</dd><dt>LV ActivePower (kW)</dt><dd>0</dd><dt>Wind Speed (m/s)</dt><dd>0</dd><dt>Theoretical_Power_Curve (KWh)</dt><dd>0</dd><dt>Wind Direction (°)</dt><dd>0</dd></dl>\n"
      ],
      "text/latex": [
       "\\begin{description*}\n",
       "\\item[Date/Time] 30544\n",
       "\\item[LV ActivePower (kW)] 0\n",
       "\\item[Wind Speed (m/s)] 0\n",
       "\\item[Theoretical\\textbackslash{}\\_Power\\textbackslash{}\\_Curve (KWh)] 0\n",
       "\\item[Wind Direction (°)] 0\n",
       "\\end{description*}\n"
      ],
      "text/markdown": [
       "Date/Time\n",
       ":   30544LV ActivePower (kW)\n",
       ":   0Wind Speed (m/s)\n",
       ":   0Theoretical_Power_Curve (KWh)\n",
       ":   0Wind Direction (°)\n",
       ":   0\n",
       "\n"
      ],
      "text/plain": [
       "                    Date/Time           LV ActivePower (kW) \n",
       "                        30544                             0 \n",
       "             Wind Speed (m/s) Theoretical_Power_Curve (KWh) \n",
       "                            0                             0 \n",
       "           Wind Direction (°) \n",
       "                            0 "
      ]
     },
     "metadata": {},
     "output_type": "display_data"
    },
    {
     "data": {
      "text/html": [
       "FALSE"
      ],
      "text/latex": [
       "FALSE"
      ],
      "text/markdown": [
       "FALSE"
      ],
      "text/plain": [
       "[1] FALSE"
      ]
     },
     "metadata": {},
     "output_type": "display_data"
    }
   ],
   "source": [
    "# R. Comprobar si hay valores NA\n",
    "colSums(is.na(energy_data))\n",
    "\n",
    "# Comprobar duplicados\n",
    "nrow(energy_data) == nrow(distinct(energy_data))"
   ]
  },
  {
   "cell_type": "code",
   "execution_count": null,
   "id": "4dbb0ece-f7b5-4e60-962a-5d28e78af590",
   "metadata": {},
   "outputs": [],
   "source": [
    "# R. Análisis exploratorio con dplyr + ggplot2\n",
    "## Agrupación por fecha y promedio de consumo teórico"
   ]
  },
  {
   "cell_type": "code",
   "execution_count": 6,
   "id": "d8bf2ff2-affa-41e0-99fd-de91a3233cd8",
   "metadata": {},
   "outputs": [],
   "source": [
    "# R. Agrupar por fecha y calcular promedio de consumo\n",
    "consumo_diario <- energy_data %>%\n",
    "  group_by(`Date/Time` = as.Date(`Date/Time`)) %>%\n",
    "  summarise(promedio_consumo = mean(`Theoretical_Power_Curve (KWh)`, na.rm = TRUE))"
   ]
  },
  {
   "cell_type": "code",
   "execution_count": 8,
   "id": "4ed17d76-0ab7-4eee-b2e7-9a6d9313cfeb",
   "metadata": {},
   "outputs": [
    {
     "data": {
      "image/png": "[encoded data removed]",
      "text/plain": [
       "plot without title"
      ]
     },
     "metadata": {
      "image/png": {
       "height": 420,
       "width": 420
      }
     },
     "output_type": "display_data"
    }
   ],
   "source": [
    "# R. Gráfica de línea del consumo energético\n",
    "#limpiar las filas con NA para que la grafica considere a todas.\n",
    "consumo_diario <- consumo_diario %>%\n",
    "  filter(!is.na(`Date/Time`) & !is.na(promedio_consumo))\n",
    "\n",
    "# Graficando\n",
    "ggplot(consumo_diario, aes(x = `Date/Time`, y = promedio_consumo)) +\n",
    "  geom_line(color = \"steelblue\") +\n",
    "  labs(title = \"Promedio Diario de Consumo Energético\",\n",
    "       x = \"Fecha\", y = \"Consumo Teórico (KWh)\") +\n",
    "  theme_minimal()"
   ]
  },
  {
   "cell_type": "code",
   "execution_count": null,
   "id": "89641f99-6b58-4985-9a99-ce3f3437ae53",
   "metadata": {},
   "outputs": [],
   "source": [
    "## Resultados y conclusión\n",
    "Este bloque realiza la transferencia efectiva de datos desde Python hacia R mediante el archivo energy_clean.csv, y permite:\n",
    "* Continuar el análisis en R.\n",
    "* Aplicar transformación de datos con dplyr.\n",
    "* Visualizar patrones temporales con ggplot2."
   ]
  },
  {
   "cell_type": "markdown",
   "id": "b1a04bda-40ba-41b0-a3da-b407d40ca0b4",
   "metadata": {},
   "source": [
    "## Conclusión de toda la solución del proyecto\n",
    "El objetivo principal de este análisis fué realizar una exploración, limpieza, transformación y visualización integral del consumo teórico de energía a partir de datos recolectados en tiempo, mediante el uso combinado de Python y R, aprovechando las fortalezas específicas de cada lenguaje en el ciclo de ciencia de datos.\n",
    "En la primera etapa, implementada en Python, se ejecutó un proceso sistemático de:\n",
    "* Carga y validación estructural del dataset (energy_consumption.csv),\n",
    "* Limpieza de datos, eliminando duplicados y valores nulos,\n",
    "* Conversión de formatos de fecha y\n",
    "* Exportación de un dataset depurado (energy_clean.csv) como punto de entrada confiable para etapas posteriores.\n",
    "\n",
    "La segunda etapa, desarrollada en R, tuvo como propósito:\n",
    "* Importar el dataset limpio,\n",
    "* Realizar una transformación temporal y estadística con dplyr,\n",
    "* Generar una visualización significativa con ggplot2 que permita identificar tendencias y patrones de consumo energético a lo largo del tiempo.\n",
    "\n",
    "Esta estrategia cruzada entre Python y R maximiza la eficiencia analítica, permitiendo una separación clara entre la limpieza estructural de datos (Python) y el análisis visual y descriptivo más avanzado (R), orientado a la toma de decisiones en entornos donde se monitorea el rendimiento energético."
   ]
  }
 ],
 "metadata": {
  "kernelspec": {
   "display_name": "R",
   "language": "R",
   "name": "ir"
  },
  "language_info": {
   "codemirror_mode": "r",
   "file_extension": ".r",
   "mimetype": "text/x-r-source",
   "name": "R",
   "pygments_lexer": "r",
   "version": "4.5.1"
  }
 },
 "nbformat": 4,
 "nbformat_minor": 5
}
